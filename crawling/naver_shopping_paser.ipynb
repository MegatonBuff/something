{
 "cells": [
  {
   "cell_type": "code",
   "execution_count": 2,
   "metadata": {},
   "outputs": [
    {
     "name": "stdout",
     "output_type": "stream",
     "text": [
      "4.5.0\n"
     ]
    }
   ],
   "source": [
    "import selenium\n",
    "print(selenium.__version__)"
   ]
  },
  {
   "cell_type": "code",
   "execution_count": null,
   "metadata": {},
   "outputs": [],
   "source": [
    "# !pip install selenium\n",
    "# !pip install webdriver_manager"
   ]
  },
  {
   "cell_type": "code",
   "execution_count": 22,
   "metadata": {},
   "outputs": [],
   "source": [
    "from selenium import webdriver\n",
    "from webdriver_manager.chrome import ChromeDriverManager # 크롬버전 상관없이 드라이버 설치 상관없이 \n",
    "from selenium.webdriver.chrome.service import Service # \n",
    "from selenium.webdriver.common.keys import Keys\n",
    "from selenium.webdriver.common.by import By\n",
    "\n",
    "import time\n",
    "import pandas as pd\n",
    "import csv"
   ]
  },
  {
   "cell_type": "code",
   "execution_count": null,
   "metadata": {},
   "outputs": [],
   "source": []
  },
  {
   "cell_type": "code",
   "execution_count": 10,
   "metadata": {},
   "outputs": [],
   "source": [
    "#-- activate webdriver \n",
    "    # browser = webdriver.Chrome(\"../chromedriver.exe\")\n",
    "browser = webdriver.Chrome(service=Service(ChromeDriverManager().install()))\n",
    "url = \"https://naver.com\"\n",
    "url_1 = \"https://search.shopping.naver.com/\"\n",
    "#-- open the selected url with chrome\n",
    "# browser.get(url)\n",
    "browser.get(url_1)\n",
    "browser.implicitly_wait(2)"
   ]
  },
  {
   "cell_type": "code",
   "execution_count": 11,
   "metadata": {},
   "outputs": [],
   "source": [
    "# #-- click on the shopping menu(with. js path)\n",
    "# # browser.find_element(By.CSS_SELECTOR,\"#NM_FAVORITE > div.group_nav > ul.list_nav.type_fix > li:nth-child(5) > a\").click() \n",
    "# browser.find_element(By.CSS_SELECTOR,\"a.nav.shop\").click()\n",
    "# time.sleep(2)\n"
   ]
  },
  {
   "cell_type": "code",
   "execution_count": 12,
   "metadata": {},
   "outputs": [],
   "source": [
    "#-- click the searchbar \n",
    "search = browser.find_element(By.CSS_SELECTOR,\"#__next > div > div.header_header__24NVj > div > div > div._gnb_header_area_150KE > div > div._gnbLogo_gnb_logo_3eIAf > div > div._gnbSearch_gnb_search_3O1L2 > form > fieldset > div._gnbSearch_inner_2Zksb > div > input\")\n",
    "search.click()\n",
    "#-- input a item to find in the search bar\n",
    "search.send_keys(\"아이폰\") # input text \n",
    "search.send_keys(Keys.ENTER) # "
   ]
  },
  {
   "cell_type": "code",
   "execution_count": 13,
   "metadata": {},
   "outputs": [],
   "source": [
    "#-- infinite scroll\n",
    "def infinite():\n",
    "    before_h = browser.execute_script(\"return window.scrollY\")\n",
    "    while True:\n",
    "        browser.find_element(By.CSS_SELECTOR,\"body\").send_keys(Keys.END) # Use the END key on the keyboard to send it to the end of the scroll\n",
    "        time.sleep(1) # 1sec delay  \n",
    "        after_h = browser.execute_script(\"return window.scrollY\")\n",
    "        if after_h == before_h:\n",
    "            break\n",
    "        before_h = after_h\n",
    "    \n",
    "infinite()"
   ]
  },
  {
   "cell_type": "code",
   "execution_count": null,
   "metadata": {},
   "outputs": [],
   "source": [
    "#-- Extract text\n",
    "def extract_text():\n",
    "    items = browser.find_elements(By.CSS_SELECTOR,\".basicList_info_area__TWvzp\")\n",
    "    for item in items:\n",
    "        name = item.find_element(By.CSS_SELECTOR,\".basicList_title__VfX3c\").text\n",
    "        #-- Exception handling in case of ERROR in price data\n",
    "        try:\n",
    "            price = item.find_element(By.CSS_SELECTOR,\".price_num__S2p_v\").text\n",
    "        except:\n",
    "            price = \"판매중단\"\n",
    "        link = item.find_element(By.CSS_SELECTOR,\".basicList_title__VfX3c > a\" ).get_attribute(\"href\")\n",
    "        # print(name,\"\\t\",price,\"\\t\",link)\n",
    "extract_text()                                                              "
   ]
  },
  {
   "cell_type": "code",
   "execution_count": 24,
   "metadata": {},
   "outputs": [],
   "source": [
    "f = open(r\"./data.csv\",\"w\",encoding=\"CP949\",newline=\"\") # path  mode    encoding    line_change\n",
    "csvWriter = csv.writer(f)\n",
    "\n",
    "items = browser.find_elements(By.CSS_SELECTOR,\".basicList_info_area__TWvzp\")\n",
    "for item in items:\n",
    "    name = item.find_element(By.CSS_SELECTOR,\".basicList_title__VfX3c\").text\n",
    "    #-- Exception handling in case of ERROR in price data\n",
    "    try:\n",
    "        price = item.find_element(By.CSS_SELECTOR,\".price_num__S2p_v\").text\n",
    "    except:\n",
    "        price = \"판매중단\"\n",
    "    link = item.find_element(By.CSS_SELECTOR,\".basicList_title__VfX3c > a\" ).get_attribute(\"href\")\n",
    "    # print(name,\"\\t\",price,\"\\t\",link)\n",
    "    \n",
    "    csvWriter.writerow([name,price,link])\n",
    "f.close()"
   ]
  },
  {
   "cell_type": "code",
   "execution_count": null,
   "metadata": {},
   "outputs": [],
   "source": []
  },
  {
   "cell_type": "code",
   "execution_count": null,
   "metadata": {},
   "outputs": [],
   "source": []
  },
  {
   "cell_type": "code",
   "execution_count": null,
   "metadata": {},
   "outputs": [],
   "source": []
  },
  {
   "cell_type": "code",
   "execution_count": null,
   "metadata": {},
   "outputs": [],
   "source": []
  },
  {
   "cell_type": "code",
   "execution_count": null,
   "metadata": {},
   "outputs": [],
   "source": []
  },
  {
   "cell_type": "code",
   "execution_count": null,
   "metadata": {},
   "outputs": [],
   "source": []
  },
  {
   "cell_type": "code",
   "execution_count": null,
   "metadata": {},
   "outputs": [],
   "source": []
  },
  {
   "cell_type": "code",
   "execution_count": null,
   "metadata": {},
   "outputs": [],
   "source": []
  },
  {
   "cell_type": "code",
   "execution_count": null,
   "metadata": {},
   "outputs": [],
   "source": []
  },
  {
   "cell_type": "code",
   "execution_count": null,
   "metadata": {},
   "outputs": [],
   "source": []
  },
  {
   "cell_type": "code",
   "execution_count": null,
   "metadata": {},
   "outputs": [],
   "source": []
  },
  {
   "cell_type": "code",
   "execution_count": null,
   "metadata": {},
   "outputs": [],
   "source": []
  }
 ],
 "metadata": {
  "kernelspec": {
   "display_name": "Python 3.10.4 64-bit",
   "language": "python",
   "name": "python3"
  },
  "language_info": {
   "codemirror_mode": {
    "name": "ipython",
    "version": 3
   },
   "file_extension": ".py",
   "mimetype": "text/x-python",
   "name": "python",
   "nbconvert_exporter": "python",
   "pygments_lexer": "ipython3",
   "version": "3.10.4"
  },
  "orig_nbformat": 4,
  "vscode": {
   "interpreter": {
    "hash": "aff24683d81bac3cf4ae977003e2a757d942f628f87be4ff24ac1431ee19e6c2"
   }
  }
 },
 "nbformat": 4,
 "nbformat_minor": 2
}
