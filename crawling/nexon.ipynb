{
 "cells": [
  {
   "cell_type": "code",
   "execution_count": 41,
   "metadata": {},
   "outputs": [],
   "source": [
    "# !pip install openpyxl\n",
    "# !pip install selenium\n",
    "# !pip install webdriver_manager"
   ]
  },
  {
   "cell_type": "code",
   "execution_count": 42,
   "metadata": {},
   "outputs": [],
   "source": [
    "from selenium import webdriver\n",
    "from webdriver_manager.chrome import ChromeDriverManager # 크롬버전 상관없이 드라이버 설치 상관없이 \n",
    "from selenium.webdriver.chrome.service import Service # \n",
    "from selenium.webdriver.common.keys import Keys\n",
    "from selenium.webdriver.common.by import By\n",
    "from selenium.common.exceptions import NoSuchElementException,StaleElementReferenceException\n",
    "from openpyxl import load_workbook\n",
    "from selenium.webdriver.chrome.options import Options\n",
    "\n",
    "import pyperclip\n",
    "import datetime\n",
    "import time\n",
    "import pandas as pd\n",
    "import numpy as np\n",
    "import csv"
   ]
  },
  {
   "cell_type": "code",
   "execution_count": 43,
   "metadata": {},
   "outputs": [],
   "source": [
    "#-- browser options\n",
    "# Options create\n",
    "options = webdriver.ChromeOptions()\n",
    "options.add_argument(\"incognito\")   # secret mode\n",
    "# options.add_argument(\"headless\")   # background mode"
   ]
  },
  {
   "cell_type": "code",
   "execution_count": 44,
   "metadata": {},
   "outputs": [],
   "source": [
    "#-- Activate webdriver \n",
    "# browser = webdriver.Chrome(\"../chromedriver.exe\") # install driver mode\n",
    "# browser = webdriver.Chrome(service=Service(ChromeDriverManager().install())) # Automatically installs the appropriate drive manager for your Chrome version.\n",
    "\n",
    "# Browser with option applied \n",
    "browser = webdriver.Chrome(service=Service(ChromeDriverManager().install()), options=options)\n"
   ]
  },
  {
   "cell_type": "code",
   "execution_count": 45,
   "metadata": {},
   "outputs": [
    {
     "ename": "SyntaxError",
     "evalue": "'(' was never closed (1459647568.py, line 47)",
     "output_type": "error",
     "traceback": [
      "\u001b[1;36m  Input \u001b[1;32mIn [45]\u001b[1;36m\u001b[0m\n\u001b[1;33m    rb.send_keys((Keyd.ENTER)\u001b[0m\n\u001b[1;37m                ^\u001b[0m\n\u001b[1;31mSyntaxError\u001b[0m\u001b[1;31m:\u001b[0m '(' was never closed\n"
     ]
    }
   ],
   "source": [
    "#-- LogIn\n",
    "def login_service(id,pwd):\n",
    "    browser.get(\"https://nxlogin.nexon.com/common/login.aspx?redirect=https%3A%2F%2Fevents.fifaonline4.nexon.com%2F220908%2Fshoot%3Futm_source%3Dpc%26utm_medium%3DmainMiddle%26utm_campaign%3D220908_shoot\")\n",
    "    browser.implicitly_wait(1)\n",
    "    search_id = browser.find_element(By.CSS_SELECTOR,\"#txtNexonID\")\n",
    "    search_id.click()\n",
    "    # search_id.send_keys(id)\n",
    "    pyperclip.copy(id)\n",
    "    search_id.send_keys(Keys.CONTROL,\"v\")\n",
    "    time.sleep(1.4)\n",
    "    search_pwd = browser.find_element(By.CSS_SELECTOR,\"#txtPWD\")\n",
    "    search_pwd.click()\n",
    "    # search_pwd.send_keys(pwd)\n",
    "    pyperclip.copy(pwd)\n",
    "    time.sleep(1.6)\n",
    "    search_pwd.send_keys(Keys.CONTROL,\"v\")\n",
    "    search_pwd.send_keys(Keys.ENTER)\n",
    "    browser.implicitly_wait(1)\n",
    "    time.sleep(1.5)\n",
    "    try :    \n",
    "        browser.find_element(By.CSS_SELECTOR,\"#header > div.menu > button.btn_logout\") \n",
    "        message = id + \"\\tLogIn Success\"\n",
    "    except:\n",
    "        message = id + \"\\tLogIn Failed\"\n",
    "        print(message)\n",
    "        browser.quit()\n",
    "        \n",
    "    print(message)\n",
    "    \n",
    "#-- LogOut\n",
    "def logout(id):\n",
    "    try:\n",
    "        logout = browser.find_element(By.CSS_SELECTOR,\"#header > div.menu > button.btn_logout\")\n",
    "        logout.click()\n",
    "        browser.implicitly_wait(3)\n",
    "        print(id,\"\\tLogOut complete\")\n",
    "    except NoSuchElementException as e : \n",
    "        print(id,\"\\tLogout button not found\")\n",
    "        browser.refresh()\n",
    "        logout(id)\n",
    "    time.sleep(1)\n",
    "    \n",
    "def refresh_btn():\n",
    "    try:\n",
    "        browser.refresh()\n",
    "        rb = browser.find_element(By.CSS_SELECTOR,\"#middle > section > div.summer33_wrap > div > div.header > div > div > button.btn_check\")\n",
    "        rb.send_keys(Keyd.ENTER)\n",
    "        time.sleep(1.5)\n",
    "    except ElementClickInterceptedException :\n",
    "        print(\"ElementClickInterceptedException 발생\")\n",
    "        browser.refresh()\n",
    "        refresh_btn()\n",
    "    \n",
    "    \n",
    "def mission_data_upload(x,id):\n",
    "    try:\n",
    "        mission_list_name = [id]\n",
    "        mission_list_data = [id]\n",
    "        for i in range(1,7):\n",
    "            mission_list_name.append(browser.find_element(By.CSS_SELECTOR,\"#middle > section > div.aside > div > div > div:nth-child({}) > div.play > div.txt\".format(str(i))).text.replace(\" \",\"\"))\n",
    "            mission_list_data.append(browser.find_element(By.CSS_SELECTOR,\"#middle > section > div.aside > div > div > div:nth-child({}) > div.play > div.state_txt > strong\".format(str(i))).text.replace(\" \",\"\")+\n",
    "                                    browser.find_element(By.CSS_SELECTOR,\"#middle > section > div.aside > div > div > div:nth-child({}) > div.play > div.state_txt > span\".format(str(i))).text.replace(\" \",\"\"))\n",
    "        df.loc[2*x] = mission_list_name\n",
    "        df.loc[2*x+1] = mission_list_data\n",
    "        return df\n",
    "    except (StaleElementReferenceException,ElementClickInterceptedException) as e :\n",
    "        if e == StaleElementReferenceException:\n",
    "            print(\"StaleElementReferenceException 발생\")\n",
    "        elif e == ElementClickInterceptedException :\n",
    "            print(\"ElementClickInterceptedException 발생\")\n",
    "        else :\n",
    "            print(\"new error 발생\\n\")\n",
    "        browser.refresh()\n",
    "        refresh_btn()\n",
    "        mission_data_upload(x,id)"
   ]
  },
  {
   "cell_type": "code",
   "execution_count": null,
   "metadata": {},
   "outputs": [],
   "source": [
    "def file_create():\n",
    "    dt_now = datetime.datetime.now()\n",
    "    file_name = \"mission_\"+str(dt_now.date())\n",
    "    return file_name.replace(\"-\",\"_\")"
   ]
  },
  {
   "cell_type": "code",
   "execution_count": null,
   "metadata": {},
   "outputs": [
    {
     "name": "stdout",
     "output_type": "stream",
     "text": [
      "ljh4176@gmail.com\tLogIn Success\n",
      "ljh4176@gmail.com \tLogOut complete\n",
      "samj90s\tLogIn Success\n",
      "samj90s \tLogOut complete\n",
      "calixlock@naver.com\tLogIn Success\n",
      "calixlock@naver.com \tLogOut complete\n",
      "calixlock90@naver.com\tLogIn Success\n",
      "calixlock90@naver.com \tLogOut complete\n",
      "amj90\tLogIn Success\n"
     ]
    },
    {
     "ename": "NameError",
     "evalue": "name 'ElementClickInterceptedException' is not defined",
     "output_type": "error",
     "traceback": [
      "\u001b[1;31m---------------------------------------------------------------------------\u001b[0m",
      "\u001b[1;31mElementClickInterceptedException\u001b[0m          Traceback (most recent call last)",
      "\u001b[1;32mc:\\Users\\amj41\\OneDrive\\바탕 화면\\github_2022\\MegatonBuff\\something\\crawling\\nexon.ipynb 셀 7\u001b[0m in \u001b[0;36mrefresh_btn\u001b[1;34m()\u001b[0m\n\u001b[0;32m     <a href='vscode-notebook-cell:/c%3A/Users/amj41/OneDrive/%EB%B0%94%ED%83%95%20%ED%99%94%EB%A9%B4/github_2022/MegatonBuff/something/crawling/nexon.ipynb#W5sZmlsZQ%3D%3D?line=45'>46</a>\u001b[0m rb \u001b[39m=\u001b[39m browser\u001b[39m.\u001b[39mfind_element(By\u001b[39m.\u001b[39mCSS_SELECTOR,\u001b[39m\"\u001b[39m\u001b[39m#middle > section > div.summer33_wrap > div > div.header > div > div > button.btn_check\u001b[39m\u001b[39m\"\u001b[39m)\n\u001b[1;32m---> <a href='vscode-notebook-cell:/c%3A/Users/amj41/OneDrive/%EB%B0%94%ED%83%95%20%ED%99%94%EB%A9%B4/github_2022/MegatonBuff/something/crawling/nexon.ipynb#W5sZmlsZQ%3D%3D?line=46'>47</a>\u001b[0m rb\u001b[39m.\u001b[39;49mclick()\n\u001b[0;32m     <a href='vscode-notebook-cell:/c%3A/Users/amj41/OneDrive/%EB%B0%94%ED%83%95%20%ED%99%94%EB%A9%B4/github_2022/MegatonBuff/something/crawling/nexon.ipynb#W5sZmlsZQ%3D%3D?line=47'>48</a>\u001b[0m time\u001b[39m.\u001b[39msleep(\u001b[39m1.5\u001b[39m)\n",
      "File \u001b[1;32mc:\\Users\\amj41\\AppData\\Local\\Programs\\Python\\Python310\\lib\\site-packages\\selenium\\webdriver\\remote\\webelement.py:88\u001b[0m, in \u001b[0;36mWebElement.click\u001b[1;34m(self)\u001b[0m\n\u001b[0;32m     87\u001b[0m \u001b[39m\"\"\"Clicks the element.\"\"\"\u001b[39;00m\n\u001b[1;32m---> 88\u001b[0m \u001b[39mself\u001b[39;49m\u001b[39m.\u001b[39;49m_execute(Command\u001b[39m.\u001b[39;49mCLICK_ELEMENT)\n",
      "File \u001b[1;32mc:\\Users\\amj41\\AppData\\Local\\Programs\\Python\\Python310\\lib\\site-packages\\selenium\\webdriver\\remote\\webelement.py:396\u001b[0m, in \u001b[0;36mWebElement._execute\u001b[1;34m(self, command, params)\u001b[0m\n\u001b[0;32m    395\u001b[0m params[\u001b[39m'\u001b[39m\u001b[39mid\u001b[39m\u001b[39m'\u001b[39m] \u001b[39m=\u001b[39m \u001b[39mself\u001b[39m\u001b[39m.\u001b[39m_id\n\u001b[1;32m--> 396\u001b[0m \u001b[39mreturn\u001b[39;00m \u001b[39mself\u001b[39;49m\u001b[39m.\u001b[39;49m_parent\u001b[39m.\u001b[39;49mexecute(command, params)\n",
      "File \u001b[1;32mc:\\Users\\amj41\\AppData\\Local\\Programs\\Python\\Python310\\lib\\site-packages\\selenium\\webdriver\\remote\\webdriver.py:429\u001b[0m, in \u001b[0;36mWebDriver.execute\u001b[1;34m(self, driver_command, params)\u001b[0m\n\u001b[0;32m    428\u001b[0m \u001b[39mif\u001b[39;00m response:\n\u001b[1;32m--> 429\u001b[0m     \u001b[39mself\u001b[39;49m\u001b[39m.\u001b[39;49merror_handler\u001b[39m.\u001b[39;49mcheck_response(response)\n\u001b[0;32m    430\u001b[0m     response[\u001b[39m'\u001b[39m\u001b[39mvalue\u001b[39m\u001b[39m'\u001b[39m] \u001b[39m=\u001b[39m \u001b[39mself\u001b[39m\u001b[39m.\u001b[39m_unwrap_value(\n\u001b[0;32m    431\u001b[0m         response\u001b[39m.\u001b[39mget(\u001b[39m'\u001b[39m\u001b[39mvalue\u001b[39m\u001b[39m'\u001b[39m, \u001b[39mNone\u001b[39;00m))\n",
      "File \u001b[1;32mc:\\Users\\amj41\\AppData\\Local\\Programs\\Python\\Python310\\lib\\site-packages\\selenium\\webdriver\\remote\\errorhandler.py:243\u001b[0m, in \u001b[0;36mErrorHandler.check_response\u001b[1;34m(self, response)\u001b[0m\n\u001b[0;32m    242\u001b[0m     \u001b[39mraise\u001b[39;00m exception_class(message, screen, stacktrace, alert_text)  \u001b[39m# type: ignore[call-arg]  # mypy is not smart enough here\u001b[39;00m\n\u001b[1;32m--> 243\u001b[0m \u001b[39mraise\u001b[39;00m exception_class(message, screen, stacktrace)\n",
      "\u001b[1;31mElementClickInterceptedException\u001b[0m: Message: element click intercepted: Element <button class=\"btn_check\" onclick=\"E220908Shoot.GetEventInfo(this);\">...</button> is not clickable at point (345, 673). Other element would receive the click: <div id=\"loader\"></div>\n  (Session info: chrome=106.0.5249.119)\nStacktrace:\nBacktrace:\n\tOrdinal0 [0x00A71ED3+2236115]\n\tOrdinal0 [0x00A092F1+1807089]\n\tOrdinal0 [0x009166FD+812797]\n\tOrdinal0 [0x0094BEC7+1031879]\n\tOrdinal0 [0x00949E6C+1023596]\n\tOrdinal0 [0x00947A5B+1014363]\n\tOrdinal0 [0x009466E7+1009383]\n\tOrdinal0 [0x0093C416+967702]\n\tOrdinal0 [0x00961A8C+1120908]\n\tOrdinal0 [0x0093BD84+966020]\n\tOrdinal0 [0x00961CA4+1121444]\n\tOrdinal0 [0x009759E2+1202658]\n\tOrdinal0 [0x009618A6+1120422]\n\tOrdinal0 [0x0093A73D+960317]\n\tOrdinal0 [0x0093B71F+964383]\n\tGetHandleVerifier [0x00D1E7E2+2743074]\n\tGetHandleVerifier [0x00D108D4+2685972]\n\tGetHandleVerifier [0x00B02BAA+532202]\n\tGetHandleVerifier [0x00B01990+527568]\n\tOrdinal0 [0x00A1080C+1837068]\n\tOrdinal0 [0x00A14CD8+1854680]\n\tOrdinal0 [0x00A14DC5+1854917]\n\tOrdinal0 [0x00A1ED64+1895780]\n\tBaseThreadInitThunk [0x75E16739+25]\n\tRtlGetFullPathName_UEx [0x76F48FD2+1218]\n\tRtlGetFullPathName_UEx [0x76F48F9D+1165]\n",
      "\nDuring handling of the above exception, another exception occurred:\n",
      "\u001b[1;31mNameError\u001b[0m                                 Traceback (most recent call last)",
      "\u001b[1;32mc:\\Users\\amj41\\OneDrive\\바탕 화면\\github_2022\\MegatonBuff\\something\\crawling\\nexon.ipynb 셀 7\u001b[0m in \u001b[0;36m<cell line: 11>\u001b[1;34m()\u001b[0m\n\u001b[0;32m     <a href='vscode-notebook-cell:/c%3A/Users/amj41/OneDrive/%EB%B0%94%ED%83%95%20%ED%99%94%EB%A9%B4/github_2022/MegatonBuff/something/crawling/nexon.ipynb#W5sZmlsZQ%3D%3D?line=12'>13</a>\u001b[0m d2 \u001b[39m=\u001b[39m id_data[\u001b[39m\"\u001b[39m\u001b[39mpwd\u001b[39m\u001b[39m\"\u001b[39m][x]\n\u001b[0;32m     <a href='vscode-notebook-cell:/c%3A/Users/amj41/OneDrive/%EB%B0%94%ED%83%95%20%ED%99%94%EB%A9%B4/github_2022/MegatonBuff/something/crawling/nexon.ipynb#W5sZmlsZQ%3D%3D?line=14'>15</a>\u001b[0m login_service(d1,d2)\n\u001b[1;32m---> <a href='vscode-notebook-cell:/c%3A/Users/amj41/OneDrive/%EB%B0%94%ED%83%95%20%ED%99%94%EB%A9%B4/github_2022/MegatonBuff/something/crawling/nexon.ipynb#W5sZmlsZQ%3D%3D?line=15'>16</a>\u001b[0m refresh_btn()\n\u001b[0;32m     <a href='vscode-notebook-cell:/c%3A/Users/amj41/OneDrive/%EB%B0%94%ED%83%95%20%ED%99%94%EB%A9%B4/github_2022/MegatonBuff/something/crawling/nexon.ipynb#W5sZmlsZQ%3D%3D?line=16'>17</a>\u001b[0m mission_data_upload(x,d1)\n\u001b[0;32m     <a href='vscode-notebook-cell:/c%3A/Users/amj41/OneDrive/%EB%B0%94%ED%83%95%20%ED%99%94%EB%A9%B4/github_2022/MegatonBuff/something/crawling/nexon.ipynb#W5sZmlsZQ%3D%3D?line=17'>18</a>\u001b[0m logout(d1)\n",
      "\u001b[1;32mc:\\Users\\amj41\\OneDrive\\바탕 화면\\github_2022\\MegatonBuff\\something\\crawling\\nexon.ipynb 셀 7\u001b[0m in \u001b[0;36mrefresh_btn\u001b[1;34m()\u001b[0m\n\u001b[0;32m     <a href='vscode-notebook-cell:/c%3A/Users/amj41/OneDrive/%EB%B0%94%ED%83%95%20%ED%99%94%EB%A9%B4/github_2022/MegatonBuff/something/crawling/nexon.ipynb#W5sZmlsZQ%3D%3D?line=46'>47</a>\u001b[0m     rb\u001b[39m.\u001b[39mclick()\n\u001b[0;32m     <a href='vscode-notebook-cell:/c%3A/Users/amj41/OneDrive/%EB%B0%94%ED%83%95%20%ED%99%94%EB%A9%B4/github_2022/MegatonBuff/something/crawling/nexon.ipynb#W5sZmlsZQ%3D%3D?line=47'>48</a>\u001b[0m     time\u001b[39m.\u001b[39msleep(\u001b[39m1.5\u001b[39m)\n\u001b[1;32m---> <a href='vscode-notebook-cell:/c%3A/Users/amj41/OneDrive/%EB%B0%94%ED%83%95%20%ED%99%94%EB%A9%B4/github_2022/MegatonBuff/something/crawling/nexon.ipynb#W5sZmlsZQ%3D%3D?line=48'>49</a>\u001b[0m \u001b[39mexcept\u001b[39;00m ElementClickInterceptedException :\n\u001b[0;32m     <a href='vscode-notebook-cell:/c%3A/Users/amj41/OneDrive/%EB%B0%94%ED%83%95%20%ED%99%94%EB%A9%B4/github_2022/MegatonBuff/something/crawling/nexon.ipynb#W5sZmlsZQ%3D%3D?line=49'>50</a>\u001b[0m     \u001b[39mprint\u001b[39m(\u001b[39m\"\u001b[39m\u001b[39mElementClickInterceptedException 발생\u001b[39m\u001b[39m\"\u001b[39m)\n\u001b[0;32m     <a href='vscode-notebook-cell:/c%3A/Users/amj41/OneDrive/%EB%B0%94%ED%83%95%20%ED%99%94%EB%A9%B4/github_2022/MegatonBuff/something/crawling/nexon.ipynb#W5sZmlsZQ%3D%3D?line=50'>51</a>\u001b[0m     browser\u001b[39m.\u001b[39mrefresh()\n",
      "\u001b[1;31mNameError\u001b[0m: name 'ElementClickInterceptedException' is not defined"
     ]
    }
   ],
   "source": [
    "#-- id / pwd load\n",
    "from sqlite3 import complete_statement\n",
    "id_data = pd.read_csv(\"../../../id_data.csv\")\n",
    "\n",
    "#-- data sheet create\n",
    "id_count = id_data.shape[0]\n",
    "mission_count = 7 # 6 + 1\n",
    "df = pd.DataFrame(np.zeros([id_count*2,mission_count]))\n",
    "\n",
    "# automations for website\n",
    "for x in list(range(id_count)):\n",
    "    d1 = id_data[\"id\"][x]\n",
    "    d2 = id_data[\"pwd\"][x]\n",
    "    \n",
    "    login_service(d1,d2)\n",
    "    refresh_btn()\n",
    "    mission_data_upload(x,d1)\n",
    "    logout(d1)\n",
    "\n",
    "# Export data\n",
    "df.to_excel(\"../../../{}.xlsx\".format(file_create()))\n",
    "d2= \"clear\"\n",
    "df= \"clear\"\n",
    "browser.quit()\n",
    "print(\"complete\")"
   ]
  },
  {
   "cell_type": "code",
   "execution_count": null,
   "metadata": {},
   "outputs": [],
   "source": []
  },
  {
   "cell_type": "code",
   "execution_count": null,
   "metadata": {},
   "outputs": [],
   "source": []
  },
  {
   "cell_type": "code",
   "execution_count": null,
   "metadata": {},
   "outputs": [],
   "source": []
  },
  {
   "cell_type": "code",
   "execution_count": null,
   "metadata": {},
   "outputs": [],
   "source": []
  },
  {
   "cell_type": "code",
   "execution_count": null,
   "metadata": {},
   "outputs": [],
   "source": []
  },
  {
   "cell_type": "code",
   "execution_count": null,
   "metadata": {},
   "outputs": [],
   "source": []
  },
  {
   "cell_type": "code",
   "execution_count": null,
   "metadata": {},
   "outputs": [],
   "source": []
  },
  {
   "cell_type": "code",
   "execution_count": null,
   "metadata": {},
   "outputs": [],
   "source": []
  },
  {
   "cell_type": "code",
   "execution_count": null,
   "metadata": {},
   "outputs": [],
   "source": []
  },
  {
   "cell_type": "code",
   "execution_count": null,
   "metadata": {},
   "outputs": [],
   "source": []
  },
  {
   "cell_type": "code",
   "execution_count": null,
   "metadata": {},
   "outputs": [],
   "source": [
    "\n"
   ]
  }
 ],
 "metadata": {
  "interpreter": {
   "hash": "aff24683d81bac3cf4ae977003e2a757d942f628f87be4ff24ac1431ee19e6c2"
  },
  "kernelspec": {
   "display_name": "Python 3.10.4 64-bit",
   "language": "python",
   "name": "python3"
  },
  "language_info": {
   "codemirror_mode": {
    "name": "ipython",
    "version": 3
   },
   "file_extension": ".py",
   "mimetype": "text/x-python",
   "name": "python",
   "nbconvert_exporter": "python",
   "pygments_lexer": "ipython3",
   "version": "3.10.4"
  },
  "orig_nbformat": 4
 },
 "nbformat": 4,
 "nbformat_minor": 2
}
