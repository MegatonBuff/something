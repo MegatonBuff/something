{
 "cells": [
  {
   "cell_type": "code",
   "execution_count": 189,
   "metadata": {},
   "outputs": [],
   "source": [
    "# !pip install openpyxl\n",
    "# !pip install selenium\n",
    "# !pip install webdriver_manager"
   ]
  },
  {
   "cell_type": "code",
   "execution_count": 190,
   "metadata": {},
   "outputs": [],
   "source": [
    "from selenium import webdriver\n",
    "from webdriver_manager.chrome import ChromeDriverManager # 크롬버전 상관없이 드라이버 설치 상관없이 \n",
    "from selenium.webdriver.chrome.service import Service # \n",
    "from selenium.webdriver.common.keys import Keys\n",
    "from selenium.webdriver.common.by import By\n",
    "from selenium.common.exceptions import NoSuchElementException,StaleElementReferenceException\n",
    "from openpyxl import load_workbook\n",
    "\n",
    "import pyperclip\n",
    "import time\n",
    "import pandas as pd\n",
    "import numpy as np\n",
    "import csv"
   ]
  },
  {
   "cell_type": "code",
   "execution_count": 191,
   "metadata": {},
   "outputs": [],
   "source": [
    "#-- activate webdriver \n",
    "    # browser = webdriver.Chrome(\"../chromedriver.exe\")\n",
    "browser = webdriver.Chrome(service=Service(ChromeDriverManager().install()))"
   ]
  },
  {
   "cell_type": "code",
   "execution_count": 192,
   "metadata": {},
   "outputs": [],
   "source": [
    "#-- LogIn\n",
    "def login_service(id,pwd):\n",
    "    browser.get(\"https://nxlogin.nexon.com/common/login.aspx?redirect=https%3A%2F%2Fevents.fifaonline4.nexon.com%2F220908%2Fshoot%3Futm_source%3Dpc%26utm_medium%3DmainMiddle%26utm_campaign%3D220908_shoot\")\n",
    "    browser.implicitly_wait(1)\n",
    "    search_id = browser.find_element(By.CSS_SELECTOR,\"#txtNexonID\")\n",
    "    search_id.click()\n",
    "    # search_id.send_keys(id)\n",
    "    pyperclip.copy(id)\n",
    "    search_id.send_keys(Keys.CONTROL,\"v\")\n",
    "    time.sleep(1)\n",
    "    search_pwd = browser.find_element(By.CSS_SELECTOR,\"#txtPWD\")\n",
    "    search_pwd.click()\n",
    "    # search_pwd.send_keys(pwd)\n",
    "    pyperclip.copy(pwd)\n",
    "    time.sleep(2)\n",
    "    search_pwd.send_keys(Keys.CONTROL,\"v\")\n",
    "    search_pwd.send_keys(Keys.ENTER)\n",
    "    browser.implicitly_wait(3)\n",
    "    \n",
    "\n",
    "    try :    \n",
    "        browser.find_element(By.CSS_SELECTOR,\"#header > div.menu > button.btn_logout\") \n",
    "        message = id + \"\\tLogIn Success\"\n",
    "    except:\n",
    "        message = id + \"\\tLogIn Failed\"\n",
    "        browser.quit()\n",
    "    print(message)\n"
   ]
  },
  {
   "cell_type": "code",
   "execution_count": 193,
   "metadata": {},
   "outputs": [],
   "source": [
    "#-- LogOut\n",
    "def logout():\n",
    "    try:\n",
    "        logout = browser.find_element(By.CSS_SELECTOR,\"#header > div.menu > button.btn_logout\")\n",
    "        logout.click()\n",
    "        print(\"LogOut complete\")\n",
    "    except NoSuchElementException as e : \n",
    "        print(\"Logout button not found\")\n",
    "    browser.implicitly_wait(3)"
   ]
  },
  {
   "cell_type": "code",
   "execution_count": 194,
   "metadata": {},
   "outputs": [],
   "source": [
    "def refresh_btn():\n",
    "    rb = browser.find_element(By.CSS_SELECTOR,\"#middle > section > div.summer33_wrap > div > div.header > div > div > button.btn_check\")\n",
    "    rb.click()"
   ]
  },
  {
   "cell_type": "code",
   "execution_count": 195,
   "metadata": {},
   "outputs": [],
   "source": [
    "def mission_data_upload(x):\n",
    "    mission_list_name = []\n",
    "    mission_list_data = []\n",
    "    for i in range(1,7):\n",
    "        mission_list_name.append(browser.find_element(By.CSS_SELECTOR,\"#middle > section > div.aside > div > div > div:nth-child({}) > div.play > div.txt\".format(str(i))).text.replace(\" \",\"\"))\n",
    "        mission_list_data.append(browser.find_element(By.CSS_SELECTOR,\"#middle > section > div.aside > div > div > div:nth-child({}) > div.play > div.state_txt > strong\".format(str(i))).text.replace(\" \",\"\")+\n",
    "                                 browser.find_element(By.CSS_SELECTOR,\"#middle > section > div.aside > div > div > div:nth-child({}) > div.play > div.state_txt > span\".format(str(i))).text.replace(\" \",\"\"))\n",
    "    df.loc[2*x] = mission_list_name\n",
    "    df.loc[2*x+1] = mission_list_data\n",
    "    return df"
   ]
  },
  {
   "cell_type": "code",
   "execution_count": null,
   "metadata": {},
   "outputs": [],
   "source": [
    "#-- id / pwd load\n",
    "id_data = pd.read_csv(\"../../../id_data.csv\")\n",
    "id_count = id_data.shape[0]\n",
    "mission_count = 6\n",
    "df = pd.DataFrame(np.zeros([id_count*2,mission_count]))\n",
    "for x in list(range(id_count)):\n",
    "    d1 = id_data[\"id\"][x]\n",
    "    d2 = id_data[\"pwd\"][x]\n",
    "    \n",
    "    login_service(d1,d2)\n",
    "    \n",
    "    mission_data_upload(x)\n",
    "    logout()\n",
    "df\n",
    "#-- logIn\n"
   ]
  },
  {
   "cell_type": "code",
   "execution_count": null,
   "metadata": {},
   "outputs": [],
   "source": []
  },
  {
   "cell_type": "code",
   "execution_count": null,
   "metadata": {},
   "outputs": [],
   "source": []
  },
  {
   "cell_type": "code",
   "execution_count": null,
   "metadata": {},
   "outputs": [],
   "source": []
  },
  {
   "cell_type": "code",
   "execution_count": null,
   "metadata": {},
   "outputs": [],
   "source": []
  },
  {
   "cell_type": "code",
   "execution_count": null,
   "metadata": {},
   "outputs": [],
   "source": []
  },
  {
   "cell_type": "code",
   "execution_count": null,
   "metadata": {},
   "outputs": [],
   "source": []
  },
  {
   "cell_type": "code",
   "execution_count": null,
   "metadata": {},
   "outputs": [],
   "source": []
  },
  {
   "cell_type": "code",
   "execution_count": null,
   "metadata": {},
   "outputs": [],
   "source": []
  },
  {
   "cell_type": "code",
   "execution_count": null,
   "metadata": {},
   "outputs": [],
   "source": []
  },
  {
   "cell_type": "code",
   "execution_count": null,
   "metadata": {},
   "outputs": [],
   "source": []
  },
  {
   "cell_type": "code",
   "execution_count": null,
   "metadata": {},
   "outputs": [],
   "source": []
  },
  {
   "cell_type": "code",
   "execution_count": null,
   "metadata": {},
   "outputs": [],
   "source": []
  },
  {
   "cell_type": "code",
   "execution_count": null,
   "metadata": {},
   "outputs": [],
   "source": []
  },
  {
   "cell_type": "code",
   "execution_count": null,
   "metadata": {},
   "outputs": [],
   "source": []
  },
  {
   "cell_type": "code",
   "execution_count": null,
   "metadata": {},
   "outputs": [],
   "source": []
  },
  {
   "cell_type": "code",
   "execution_count": null,
   "metadata": {},
   "outputs": [],
   "source": [
    "\n"
   ]
  }
 ],
 "metadata": {
  "interpreter": {
   "hash": "aff24683d81bac3cf4ae977003e2a757d942f628f87be4ff24ac1431ee19e6c2"
  },
  "kernelspec": {
   "display_name": "Python 3.10.4 64-bit",
   "language": "python",
   "name": "python3"
  },
  "language_info": {
   "codemirror_mode": {
    "name": "ipython",
    "version": 3
   },
   "file_extension": ".py",
   "mimetype": "text/x-python",
   "name": "python",
   "nbconvert_exporter": "python",
   "pygments_lexer": "ipython3",
   "version": "3.10.4"
  },
  "orig_nbformat": 4
 },
 "nbformat": 4,
 "nbformat_minor": 2
}
