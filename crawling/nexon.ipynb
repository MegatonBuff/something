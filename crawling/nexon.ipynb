{
 "cells": [
  {
   "cell_type": "code",
   "execution_count": 25,
   "metadata": {},
   "outputs": [],
   "source": [
    "# !pip install openpyxl\n",
    "# !pip install selenium\n",
    "# !pip install webdriver_manager"
   ]
  },
  {
   "cell_type": "code",
   "execution_count": 26,
   "metadata": {},
   "outputs": [],
   "source": [
    "from selenium import webdriver\n",
    "from webdriver_manager.chrome import ChromeDriverManager # 크롬버전 상관없이 드라이버 설치 상관없이 \n",
    "from selenium.webdriver.chrome.service import Service # \n",
    "from selenium.webdriver.common.keys import Keys\n",
    "from selenium.webdriver.common.by import By\n",
    "from selenium.common.exceptions import NoSuchElementException,StaleElementReferenceException,ElementClickInterceptedException # Error 예외처리\n",
    "from openpyxl import load_workbook\n",
    "from selenium.webdriver.chrome.options import Options\n",
    "\n",
    "import pyperclip\n",
    "import datetime\n",
    "import time\n",
    "import pandas as pd\n",
    "import numpy as np\n",
    "import csv"
   ]
  },
  {
   "cell_type": "code",
   "execution_count": 27,
   "metadata": {},
   "outputs": [],
   "source": [
    "#-- browser options\n",
    "# Options create\n",
    "options = webdriver.ChromeOptions()\n",
    "options.add_argument(\"incognito\")   # secret mode\n",
    "# options.add_argument(\"headless\")   # background mode"
   ]
  },
  {
   "cell_type": "code",
   "execution_count": 28,
   "metadata": {},
   "outputs": [
    {
     "name": "stderr",
     "output_type": "stream",
     "text": [
      "[WDM] - Downloading: 100%|██████████| 6.29M/6.29M [00:00<00:00, 11.5MB/s]\n"
     ]
    }
   ],
   "source": [
    "#-- Activate webdriver \n",
    "# browser = webdriver.Chrome(\"../chromedriver.exe\") # install driver mode\n",
    "# browser = webdriver.Chrome(service=Service(ChromeDriverManager().install())) # Automatically installs the appropriate drive manager for your Chrome version.\n",
    "\n",
    "# Browser with option applied \n",
    "browser = webdriver.Chrome(service=Service(ChromeDriverManager().install()), options=options)\n"
   ]
  },
  {
   "cell_type": "code",
   "execution_count": 29,
   "metadata": {},
   "outputs": [],
   "source": [
    "#-- LogIn\n",
    "def login_service(id,pwd):\n",
    "    browser.get(\"https://nxlogin.nexon.com/common/login.aspx?redirect=https%3A%2F%2Fevents.fifaonline4.nexon.com%2F220908%2Fshoot%3Futm_source%3Dpc%26utm_medium%3DmainMiddle%26utm_campaign%3D220908_shoot\")\n",
    "    browser.implicitly_wait(1)\n",
    "    search_id = browser.find_element(By.CSS_SELECTOR,\"#txtNexonID\")\n",
    "    search_id.click()\n",
    "    # search_id.send_keys(id)\n",
    "    pyperclip.copy(id)\n",
    "    search_id.send_keys(Keys.CONTROL,\"v\")\n",
    "    time.sleep(1.4)\n",
    "    search_pwd = browser.find_element(By.CSS_SELECTOR,\"#txtPWD\")\n",
    "    search_pwd.click()\n",
    "    # search_pwd.send_keys(pwd)\n",
    "    pyperclip.copy(pwd)\n",
    "    time.sleep(1.6)\n",
    "    search_pwd.send_keys(Keys.CONTROL,\"v\")\n",
    "    search_pwd.send_keys(Keys.ENTER)\n",
    "    browser.implicitly_wait(1)\n",
    "    time.sleep(1.5)\n",
    "    try :    \n",
    "        browser.find_element(By.CSS_SELECTOR,\"#header > div.menu > button.btn_logout\") \n",
    "        message = id + \"\\tLogIn Success\"\n",
    "    except:\n",
    "        message = id + \"\\tLogIn Failed\"\n",
    "        print(message)\n",
    "        browser.quit()\n",
    "        \n",
    "    print(message)\n",
    "    \n",
    "#-- LogOut\n",
    "def logout(id):\n",
    "    try:\n",
    "        logout = browser.find_element(By.CSS_SELECTOR,\"#header > div.menu > button.btn_logout\")\n",
    "        logout.click()\n",
    "        browser.implicitly_wait(3)\n",
    "        print(id,\"\\tLogOut complete\")\n",
    "    except NoSuchElementException as e : \n",
    "        print(id,\"\\tLogout button not found\")\n",
    "        browser.refresh()\n",
    "        logout(id)\n",
    "    time.sleep(1)\n",
    "    \n",
    "def refresh_btn():\n",
    "    try:\n",
    "        browser.refresh()\n",
    "        rb = browser.find_element(By.CSS_SELECTOR,\"#middle > section > div.summer33_wrap > div > div.header > div > div > button.btn_check\")\n",
    "        rb.send_keys(Keys.ENTER)\n",
    "        time.sleep(1.5)\n",
    "    except ElementClickInterceptedException :\n",
    "        print(\"ElementClickInterceptedException 발생\")\n",
    "        browser.refresh()\n",
    "        refresh_btn()\n",
    "    \n",
    "    \n",
    "def mission_data_upload(x,id):\n",
    "    try:\n",
    "        mission_list_name = [id]\n",
    "        mission_list_data = [id]\n",
    "        for i in range(1,7):\n",
    "            mission_list_name.append(browser.find_element(By.CSS_SELECTOR,\"#middle > section > div.aside > div > div > div:nth-child({}) > div.play > div.txt\".format(str(i))).text.replace(\" \",\"\"))\n",
    "            mission_list_data.append(browser.find_element(By.CSS_SELECTOR,\"#middle > section > div.aside > div > div > div:nth-child({}) > div.play > div.state_txt > strong\".format(str(i))).text.replace(\" \",\"\")+\n",
    "                                    browser.find_element(By.CSS_SELECTOR,\"#middle > section > div.aside > div > div > div:nth-child({}) > div.play > div.state_txt > span\".format(str(i))).text.replace(\" \",\"\"))\n",
    "        df.loc[2*x] = mission_list_name\n",
    "        df.loc[2*x+1] = mission_list_data\n",
    "        return df\n",
    "    except (StaleElementReferenceException,ElementClickInterceptedException) as e :\n",
    "        if e == StaleElementReferenceException:\n",
    "            print(\"StaleElementReferenceException 발생\")\n",
    "        elif e == ElementClickInterceptedException :\n",
    "            print(\"ElementClickInterceptedException 발생\")\n",
    "        else :\n",
    "            print(\"new error 발생\\n\")\n",
    "        browser.refresh()\n",
    "        refresh_btn()\n",
    "        mission_data_upload(x,id)"
   ]
  },
  {
   "cell_type": "code",
   "execution_count": 30,
   "metadata": {},
   "outputs": [],
   "source": [
    "def file_create():\n",
    "    dt_now = datetime.datetime.now()\n",
    "    file_name = \"mission_\"+str(dt_now.date())\n",
    "    return file_name.replace(\"-\",\"_\")"
   ]
  },
  {
   "cell_type": "code",
   "execution_count": 31,
   "metadata": {},
   "outputs": [
    {
     "name": "stdout",
     "output_type": "stream",
     "text": [
      "ljh4176@gmail.com\tLogIn Success\n",
      "ljh4176@gmail.com \tLogOut complete\n",
      "samj90s\tLogIn Success\n",
      "samj90s \tLogOut complete\n",
      "calixlock@naver.com\tLogIn Success\n",
      "calixlock@naver.com \tLogOut complete\n",
      "calixlock90@naver.com\tLogIn Success\n",
      "calixlock90@naver.com \tLogOut complete\n",
      "amj90\tLogIn Success\n",
      "amj90 \tLogOut complete\n",
      "100tmvlem100\tLogIn Success\n",
      "100tmvlem100 \tLogOut complete\n",
      "Complete\n"
     ]
    }
   ],
   "source": [
    "#-- id / pwd load\n",
    "from sqlite3 import complete_statement\n",
    "id_data = pd.read_csv(\"../../../id_data.csv\")\n",
    "\n",
    "#-- data sheet create\n",
    "id_count = id_data.shape[0]\n",
    "mission_count = 7 # 6 + 1\n",
    "df = pd.DataFrame(np.zeros([id_count*2,mission_count]))\n",
    "\n",
    "# Automations for website\n",
    "for x in list(range(id_count)):\n",
    "    d1 = id_data[\"id\"][x]\n",
    "    d2 = id_data[\"pwd\"][x]\n",
    "    \n",
    "    login_service(d1,d2)\n",
    "    refresh_btn()\n",
    "    mission_data_upload(x,d1)\n",
    "    logout(d1)\n",
    "    \n",
    "# close website\n",
    "browser.quit()\n",
    "\n",
    "# Export data\n",
    "df.to_excel(\"../../../{}.xlsx\".format(file_create()))\n",
    "\n",
    "# All variable reset \n",
    "%reset -f\n",
    "\n",
    "# complete message\n",
    "print(\"Complete\")"
   ]
  },
  {
   "cell_type": "code",
   "execution_count": 32,
   "metadata": {},
   "outputs": [],
   "source": [
    "# ConnectionRefusedError / MaxRetryError / NewConnectionError 에러처리 필요"
   ]
  },
  {
   "cell_type": "code",
   "execution_count": null,
   "metadata": {},
   "outputs": [],
   "source": []
  },
  {
   "cell_type": "code",
   "execution_count": null,
   "metadata": {},
   "outputs": [],
   "source": []
  },
  {
   "cell_type": "code",
   "execution_count": null,
   "metadata": {},
   "outputs": [],
   "source": []
  },
  {
   "cell_type": "code",
   "execution_count": null,
   "metadata": {},
   "outputs": [],
   "source": []
  },
  {
   "cell_type": "code",
   "execution_count": null,
   "metadata": {},
   "outputs": [],
   "source": []
  },
  {
   "cell_type": "code",
   "execution_count": null,
   "metadata": {},
   "outputs": [],
   "source": []
  },
  {
   "cell_type": "code",
   "execution_count": null,
   "metadata": {},
   "outputs": [],
   "source": []
  },
  {
   "cell_type": "code",
   "execution_count": null,
   "metadata": {},
   "outputs": [],
   "source": []
  },
  {
   "cell_type": "code",
   "execution_count": null,
   "metadata": {},
   "outputs": [],
   "source": []
  },
  {
   "cell_type": "code",
   "execution_count": null,
   "metadata": {},
   "outputs": [],
   "source": [
    "\n"
   ]
  }
 ],
 "metadata": {
  "interpreter": {
   "hash": "aff24683d81bac3cf4ae977003e2a757d942f628f87be4ff24ac1431ee19e6c2"
  },
  "kernelspec": {
   "display_name": "Python 3.10.4 64-bit",
   "language": "python",
   "name": "python3"
  },
  "language_info": {
   "codemirror_mode": {
    "name": "ipython",
    "version": 3
   },
   "file_extension": ".py",
   "mimetype": "text/x-python",
   "name": "python",
   "nbconvert_exporter": "python",
   "pygments_lexer": "ipython3",
   "version": "3.10.4"
  },
  "orig_nbformat": 4
 },
 "nbformat": 4,
 "nbformat_minor": 2
}
