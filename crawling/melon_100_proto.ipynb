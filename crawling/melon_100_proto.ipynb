{
 "cells": [
  {
   "cell_type": "code",
   "execution_count": 1,
   "metadata": {},
   "outputs": [
    {
     "name": "stdout",
     "output_type": "stream",
     "text": [
      "Requirement already satisfied: beautifulsoup4 in c:\\users\\amj41\\appdata\\local\\programs\\python\\python310\\lib\\site-packages (4.11.1)\n",
      "Requirement already satisfied: soupsieve>1.2 in c:\\users\\amj41\\appdata\\local\\programs\\python\\python310\\lib\\site-packages (from beautifulsoup4) (2.3.2.post1)\n"
     ]
    },
    {
     "name": "stderr",
     "output_type": "stream",
     "text": [
      "\n",
      "[notice] A new release of pip available: 22.2.2 -> 22.3\n",
      "[notice] To update, run: python.exe -m pip install --upgrade pip\n"
     ]
    },
    {
     "name": "stdout",
     "output_type": "stream",
     "text": [
      "Requirement already satisfied: requests in c:\\users\\amj41\\appdata\\local\\programs\\python\\python310\\lib\\site-packages (2.28.1)\n",
      "Requirement already satisfied: urllib3<1.27,>=1.21.1 in c:\\users\\amj41\\appdata\\local\\programs\\python\\python310\\lib\\site-packages (from requests) (1.26.9)\n",
      "Requirement already satisfied: certifi>=2017.4.17 in c:\\users\\amj41\\appdata\\local\\programs\\python\\python310\\lib\\site-packages (from requests) (2022.5.18.1)\n",
      "Requirement already satisfied: idna<4,>=2.5 in c:\\users\\amj41\\appdata\\local\\programs\\python\\python310\\lib\\site-packages (from requests) (3.3)\n",
      "Requirement already satisfied: charset-normalizer<3,>=2 in c:\\users\\amj41\\appdata\\local\\programs\\python\\python310\\lib\\site-packages (from requests) (2.1.1)\n"
     ]
    },
    {
     "name": "stderr",
     "output_type": "stream",
     "text": [
      "\n",
      "[notice] A new release of pip available: 22.2.2 -> 22.3\n",
      "[notice] To update, run: python.exe -m pip install --upgrade pip\n"
     ]
    }
   ],
   "source": [
    "# 크롤링 패키지 설치\n",
    "# !pip install beautifulsoup4\n",
    "# !pip install requests"
   ]
  },
  {
   "cell_type": "code",
   "execution_count": 123,
   "metadata": {},
   "outputs": [
    {
     "name": "stdout",
     "output_type": "stream",
     "text": [
      "<bound method Response.raise_for_status of <Response [200]>>\n",
      "complete\n"
     ]
    }
   ],
   "source": [
    "from bs4 import BeautifulSoup\n",
    "import requests\n",
    "import pandas as pd\n",
    "import numpy as np\n",
    "import time\n",
    "\n",
    "# 웹 크롤링\n",
    "headers = {\"User-Agent\" : \"Mozilla/5.0 (Windows NT 10.0; Win64; x64) AppleWebKit/537.36 (KHTML, like Gecko) Chrome/106.0.0.0 Safari/537.36\"}\n",
    "url = \"https://www.melon.com/chart/\"\n",
    "\n",
    "r = requests.get(url, headers = headers)\n",
    "print(r.raise_for_status)# 연결 상태 확인 // 200>정상 406>헤더 문제 발생\n",
    "\n",
    "html = r.text\n",
    "soup = BeautifulSoup(html,\"html.parser\")\n",
    "\n",
    "lst_50 = soup.select(\".lst50\")\n",
    "lst_100 = soup.select(\".lst100\")\n",
    "lst = lst_50 + lst_100 \n",
    "# lst = soup.select(\".lst50,.lst100\") 한 번에 \n",
    "song = []\n",
    "artist = []\n",
    "\n",
    "album = []\n",
    "rank = []\n",
    "\n",
    "for num,i in enumerate(lst,1):\n",
    "    \n",
    "    rank.append(num)\n",
    "    song.append(i.select_one(\".ellipsis.rank01 > span > a\").text)\n",
    "    album.append(i.select_one(\".ellipsis.rank03 > a\").text)\n",
    "    \n",
    "    # 2개이상의 artist 존재함\n",
    "    artists = []\n",
    "    for x in i.select(\".ellipsis.rank02 > a\"):\n",
    "        artists.append(x.text)\n",
    "    artist.append(\",\".join(artists))\n",
    "    \n",
    "    \n",
    "    \n",
    "# pandas로 데이터 정리\n",
    "data = {'Ranking':rank, 'Artist' : artist, 'Song':song, 'Album':album}\n",
    "df = pd.DataFrame(data)\n",
    "print(\"complete\")\n",
    "\n",
    "# excel로 내보내기\n",
    "date = time.strftime('%Y%m%d_%H%M', time.localtime(time.time())) # 날짜_시간 : 20221103_1839\n",
    "df.to_excel(\"./MelonTop100_{}.xlsx\".format(date), index=False)\n"
   ]
  },
  {
   "cell_type": "code",
   "execution_count": null,
   "metadata": {},
   "outputs": [],
   "source": []
  },
  {
   "cell_type": "code",
   "execution_count": null,
   "metadata": {},
   "outputs": [],
   "source": [
    "\"\"\"\n",
    "# <div class=\"ellipsis rank01\">\n",
    "#     <span>\n",
    "#         <a href=\"javascript:melon.play.playSong('1000002721',35730562);\" title=\"Nxde 재생\">Nxde</a>\n",
    "#     </span>\n",
    "# </div>\n",
    "\"\"\""
   ]
  },
  {
   "cell_type": "code",
   "execution_count": null,
   "metadata": {},
   "outputs": [],
   "source": [
    "\"\"\"\n",
    "<div class=\"ellipsis rank02\">\n",
    "    <a href=\"javascript:melon.link.goArtistDetail('2137482');\" title=\"(여자)아이들 - 페이지 이동\">(여자)아이들</a>\n",
    "        <span class=\"checkEllipsis\" style=\"display: none;\">\n",
    "            <a href=\"javascript:melon.link.goArtistDetail('2137482');\" title=\"(여자)아이들 - 페이지 이동\">(여자)아이들</a>\n",
    "        </span>\n",
    "</div>\n",
    "\"\"\""
   ]
  },
  {
   "cell_type": "code",
   "execution_count": null,
   "metadata": {},
   "outputs": [],
   "source": [
    "\"\"\"\n",
    "<div class=\"ellipsis rank02\">\n",
    "    <a href=\"javascript:melon.link.goArtistDetail('2137482');\" title=\"(여자)아이들 - 페이지 이동\">(여자)아이들</a>\n",
    "        <span class=\"checkEllipsis\" style=\"display: none;\">\n",
    "            <a href=\"javascript:melon.link.goArtistDetail('2137482');\" title=\"(여자)아이들 - 페이지 이동\">(여자)아이들</a>\n",
    "        </span>\n",
    "</div>\n",
    "\"\"\""
   ]
  },
  {
   "cell_type": "code",
   "execution_count": null,
   "metadata": {},
   "outputs": [],
   "source": [
    "\"\"\"\n",
    "<div class=\"ellipsis rank03\">\n",
    "    <a href=\"javascript:melon.link.goAlbumDetail('11078852');\" title=\"I love - 페이지 이동\">I love</a>\n",
    "</div>\n",
    "\"\"\""
   ]
  },
  {
   "cell_type": "code",
   "execution_count": 45,
   "metadata": {},
   "outputs": [
    {
     "name": "stdout",
     "output_type": "stream",
     "text": [
      "Nxde (여자)아이들 I love\n"
     ]
    }
   ],
   "source": [
    "# 하나의 정보를 가져올때\n",
    "title = soup.select_one(\".ellipsis.rank01 > span > a\") \n",
    "# title = soup.select_one(\".ellipsis.rank01 a\") # 빈칸 : 하단 a태그까지 자식+자손 내용 다 끌어옴 (권장 X)\n",
    "singer =  soup.select_one(\".ellipsis.rank02 > a\") # > : 바로 아래 직속만\n",
    "album = soup.select_one(\".ellipsis.rank03 > a\")\n",
    "print(title.text,singer.text,album.text)"
   ]
  },
  {
   "cell_type": "code",
   "execution_count": 58,
   "metadata": {},
   "outputs": [
    {
     "name": "stdout",
     "output_type": "stream",
     "text": [
      "101 \t 7\n",
      "102 \t 8\n",
      "103 \t 9\n"
     ]
    }
   ],
   "source": [
    "for num, i in enumerate(list(range(7,10)),101):\n",
    "    print(num,\"\\t\",i)"
   ]
  },
  {
   "cell_type": "code",
   "execution_count": 124,
   "metadata": {},
   "outputs": [
    {
     "name": "stdout",
     "output_type": "stream",
     "text": [
      "<bound method Response.raise_for_status of <Response [200]>>\n"
     ]
    },
    {
     "data": {
      "text/plain": [
       "100"
      ]
     },
     "execution_count": 124,
     "metadata": {},
     "output_type": "execute_result"
    }
   ],
   "source": [
    "from bs4 import BeautifulSoup\n",
    "import requests\n",
    "import pandas as pd\n",
    "import numpy as np\n",
    "import time\n",
    "\n",
    "# 웹 크롤링\n",
    "headers = {\"User-Agent\" : \"Mozilla/5.0 (Windows NT 10.0; Win64; x64) AppleWebKit/537.36 (KHTML, like Gecko) Chrome/106.0.0.0 Safari/537.36\"}\n",
    "url = \"https://www.melon.com/chart/\"\n",
    "\n",
    "r = requests.get(url, headers = headers)\n",
    "print(r.raise_for_status)# 연결 상태 확인 // 200>정상 406>헤더 문제 발생\n",
    "\n",
    "html = r.text\n",
    "soup = BeautifulSoup(html,\"html.parser\")\n",
    "\n",
    "lst = soup.select(\".lst50,.lst100\")\n",
    "len(lst)"
   ]
  }
 ],
 "metadata": {
  "kernelspec": {
   "display_name": "Python 3.10.4 64-bit",
   "language": "python",
   "name": "python3"
  },
  "language_info": {
   "codemirror_mode": {
    "name": "ipython",
    "version": 3
   },
   "file_extension": ".py",
   "mimetype": "text/x-python",
   "name": "python",
   "nbconvert_exporter": "python",
   "pygments_lexer": "ipython3",
   "version": "3.10.4"
  },
  "orig_nbformat": 4,
  "vscode": {
   "interpreter": {
    "hash": "aff24683d81bac3cf4ae977003e2a757d942f628f87be4ff24ac1431ee19e6c2"
   }
  }
 },
 "nbformat": 4,
 "nbformat_minor": 2
}
