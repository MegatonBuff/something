{
 "cells": [
  {
   "cell_type": "code",
   "execution_count": null,
   "metadata": {},
   "outputs": [],
   "source": [
    "import requests\n",
    "import re\n",
    "\n",
    "response = requests.get(https://events.fifaonline4.nexon.com/220512/marble?utm_source=pc&utm_medium=mainMiddle&utm_campaign=220512_marble)\n",
    "response"
   ]
  },
  {
   "cell_type": "code",
   "execution_count": 2,
   "metadata": {},
   "outputs": [
    {
     "ename": "ModuleNotFoundError",
     "evalue": "No module named 'sutils'",
     "output_type": "error",
     "traceback": [
      "\u001b[1;31m---------------------------------------------------------------------------\u001b[0m",
      "\u001b[1;31mModuleNotFoundError\u001b[0m                       Traceback (most recent call last)",
      "\u001b[1;32mc:\\Users\\amj41\\OneDrive\\바탕 화면\\git\\vscode\\hobby\\nexon.ipynb Cell 2'\u001b[0m in \u001b[0;36m<cell line: 3>\u001b[1;34m()\u001b[0m\n\u001b[0;32m      <a href='vscode-notebook-cell:/c%3A/Users/amj41/OneDrive/%EB%B0%94%ED%83%95%20%ED%99%94%EB%A9%B4/git/vscode/hobby/nexon.ipynb#ch0000001?line=0'>1</a>\u001b[0m \u001b[39mimport\u001b[39;00m \u001b[39mchromedriver_autoinstaller\u001b[39;00m\n\u001b[0;32m      <a href='vscode-notebook-cell:/c%3A/Users/amj41/OneDrive/%EB%B0%94%ED%83%95%20%ED%99%94%EB%A9%B4/git/vscode/hobby/nexon.ipynb#ch0000001?line=1'>2</a>\u001b[0m chromedriver_autoinstaller\u001b[39m.\u001b[39minstall()\n\u001b[1;32m----> <a href='vscode-notebook-cell:/c%3A/Users/amj41/OneDrive/%EB%B0%94%ED%83%95%20%ED%99%94%EB%A9%B4/git/vscode/hobby/nexon.ipynb#ch0000001?line=2'>3</a>\u001b[0m \u001b[39mfrom\u001b[39;00m \u001b[39msutils\u001b[39;00m \u001b[39mimport\u001b[39;00m get_selenium_driver\n\u001b[0;32m      <a href='vscode-notebook-cell:/c%3A/Users/amj41/OneDrive/%EB%B0%94%ED%83%95%20%ED%99%94%EB%A9%B4/git/vscode/hobby/nexon.ipynb#ch0000001?line=3'>4</a>\u001b[0m \u001b[39mfrom\u001b[39;00m \u001b[39mselenium\u001b[39;00m\u001b[39m.\u001b[39;00m\u001b[39mwebdriver\u001b[39;00m\u001b[39m.\u001b[39;00m\u001b[39mcommon\u001b[39;00m\u001b[39m.\u001b[39;00m\u001b[39mby\u001b[39;00m \u001b[39mimport\u001b[39;00m By\n\u001b[0;32m      <a href='vscode-notebook-cell:/c%3A/Users/amj41/OneDrive/%EB%B0%94%ED%83%95%20%ED%99%94%EB%A9%B4/git/vscode/hobby/nexon.ipynb#ch0000001?line=4'>5</a>\u001b[0m \u001b[39mfrom\u001b[39;00m \u001b[39mselenium\u001b[39;00m\u001b[39m.\u001b[39;00m\u001b[39mwebdriver\u001b[39;00m\u001b[39m.\u001b[39;00m\u001b[39msupport\u001b[39;00m\u001b[39m.\u001b[39;00m\u001b[39mui\u001b[39;00m \u001b[39mimport\u001b[39;00m WebDriverWait\n",
      "\u001b[1;31mModuleNotFoundError\u001b[0m: No module named 'sutils'"
     ]
    }
   ],
   "source": [
    "import chromedriver_autoinstaller\n",
    "chromedriver_autoinstaller.install()\n",
    "\n",
    "driver = get_selenium_driver(False)\n",
    "url = \"\"\n",
    "driver.get(\"url\")"
   ]
  }
 ],
 "metadata": {
  "interpreter": {
   "hash": "aff24683d81bac3cf4ae977003e2a757d942f628f87be4ff24ac1431ee19e6c2"
  },
  "kernelspec": {
   "display_name": "Python 3.10.4 64-bit",
   "language": "python",
   "name": "python3"
  },
  "language_info": {
   "codemirror_mode": {
    "name": "ipython",
    "version": 3
   },
   "file_extension": ".py",
   "mimetype": "text/x-python",
   "name": "python",
   "nbconvert_exporter": "python",
   "pygments_lexer": "ipython3",
   "version": "3.10.4"
  },
  "orig_nbformat": 4
 },
 "nbformat": 4,
 "nbformat_minor": 2
}
