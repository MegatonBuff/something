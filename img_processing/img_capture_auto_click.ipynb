{
 "cells": [
  {
   "cell_type": "code",
   "execution_count": 8,
   "metadata": {},
   "outputs": [
    {
     "name": "stdout",
     "output_type": "stream",
     "text": [
      "Requirement already satisfied: Pillow in c:\\users\\amj41\\appdata\\local\\programs\\python\\python310\\lib\\site-packages (9.2.0)\n"
     ]
    },
    {
     "name": "stderr",
     "output_type": "stream",
     "text": [
      "\n",
      "[notice] A new release of pip available: 22.2.2 -> 22.3\n",
      "[notice] To update, run: python.exe -m pip install --upgrade pip\n"
     ]
    }
   ],
   "source": [
    "# 마우스/키보드 입력 패키지\n",
    "# !pip install pyautogui\n",
    "\n",
    "# 이미지 인식 패키지\n",
    "# !pip install opencv-python\n",
    "\n",
    "# 이미지 변환\n",
    "# !pip install Pillow"
   ]
  },
  {
   "cell_type": "code",
   "execution_count": 49,
   "metadata": {},
   "outputs": [],
   "source": [
    "# 자동 입력 패키지\n",
    "import pyautogui as pg\n",
    "\n",
    "# 이미지 형식 변환\n",
    "from PIL import Image"
   ]
  },
  {
   "cell_type": "code",
   "execution_count": 60,
   "metadata": {},
   "outputs": [
    {
     "data": {
      "image/png": "[encoded data removed]",
      "text/plain": [
       "<PIL.Image.Image image mode=RGB size=18x21>"
      ]
     },
     "execution_count": 60,
     "metadata": {},
     "output_type": "execute_result"
    }
   ],
   "source": [
    "# 이미지 파일 변환\n",
    "def jpg_png_convert(file_name):\n",
    "    img = Image.open(file_name).convert(\"RGB\")\n",
    "    img.save(file_name.split(\".\")[0]+\".png\", \"png\")\n",
    "    return img\n",
    "\n",
    "def png_jpg_convert(file_name):\n",
    "    img = Image.open(file_name).convert(\"RGB\")\n",
    "    img.save(file_name.split(\".\")[0]+\".jpg\", \"jpeg\")\n",
    "    return img\n",
    "\n",
    "png_jpg_convert(\"0.png\")\n",
    "# png_jpg_convert(\"5.png\")\n",
    "\n"
   ]
  },
  {
   "cell_type": "code",
   "execution_count": 94,
   "metadata": {},
   "outputs": [],
   "source": [
    "# 이미지 자동 클릭\n",
    "    # img = pg.locateOnScreen(\"./0.png\")      #---(1-1)\n",
    "    # img_center = pg.center(img)             #---(1-2)\n",
    "    # pg.click(img_center)\n",
    "\n",
    "# 저장된 이미지의 센터를 찾아내 클릭\n",
    "num0=pg.locateCenterOnScreen(\"0.png\")\n",
    "pg.click(num0)\n",
    "\n",
    "\n",
    "#== none 발생 \n",
    "# opencv 미설치 \n",
    "# 이미지확장자 > png에 최적화 / 이외 확장자에 none 발생 가능성 큼 \n",
    "# 이미지의 크기 변경시 none 반환\n",
    "# 화면내에 존재하지 않으면 none 반환"
   ]
  },
  {
   "cell_type": "code",
   "execution_count": 95,
   "metadata": {},
   "outputs": [
    {
     "name": "stdout",
     "output_type": "stream",
     "text": [
      "Point(x=3974, y=778)\n"
     ]
    }
   ],
   "source": [
    "# 이미지의 좌상단 커서위치/너비로 이미지 추출\n",
    "\n",
    "# 캡처할 이미지 커서 위치\n",
    "def img_capture():\n",
    "    print(\"Position the mouse in the upper left corner of the image you want to capture and enter\")\n",
    "    pos = input()\n",
    "    print(\"enter the (width,height) / unit is pixel\")\n",
    "    w,h = map(int,(input().split(\",\")))\n",
    "    print(\"enter the width\")\n",
    "    w = int(input())\n",
    "    \n",
    "    position pg.\n",
    "    pg.position()"
   ]
  },
  {
   "cell_type": "code",
   "execution_count": 98,
   "metadata": {},
   "outputs": [
    {
     "name": "stdout",
     "output_type": "stream",
     "text": [
      "30 40\n"
     ]
    }
   ],
   "source": [
    "w,h = map(int,(input().split(\",\")))\n",
    "print(w,h)"
   ]
  }
 ],
 "metadata": {
  "kernelspec": {
   "display_name": "Python 3.10.4 64-bit",
   "language": "python",
   "name": "python3"
  },
  "language_info": {
   "codemirror_mode": {
    "name": "ipython",
    "version": 3
   },
   "file_extension": ".py",
   "mimetype": "text/x-python",
   "name": "python",
   "nbconvert_exporter": "python",
   "pygments_lexer": "ipython3",
   "version": "3.10.4"
  },
  "orig_nbformat": 4,
  "vscode": {
   "interpreter": {
    "hash": "aff24683d81bac3cf4ae977003e2a757d942f628f87be4ff24ac1431ee19e6c2"
   }
  }
 },
 "nbformat": 4,
 "nbformat_minor": 2
}
