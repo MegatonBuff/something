{
 "cells": [
  {
   "cell_type": "code",
   "execution_count": 16,
   "metadata": {},
   "outputs": [],
   "source": [
    "# 1_create_frame.py\n",
    "\n",
    "from tkinter import *\n",
    "\n",
    "# 객체 생성\n",
    "app_1 = Tk()\n",
    "\n",
    "# 객체 프레임 설정\n",
    "app_1.title(\"GUI title\")\n",
    "app_1.geometry(\"480x360+2930+75\") # window size ( W x H + x + y)\n",
    "# app_1.resizable(False, False) # window size (x,y) 변경 설정 T/F\n",
    "\n",
    "\n",
    "# 2_add_button\n",
    "btn1 = Button(app_1, text = \"btn_1\", padx=5,pady=10) \n",
    "btn1.pack() # 버튼 활성화\n",
    "\n",
    "\n",
    "# 창이 유지되도록\n",
    "app_1.mainloop() "
   ]
  },
  {
   "cell_type": "code",
   "execution_count": 11,
   "metadata": {},
   "outputs": [
    {
     "data": {
      "text/plain": [
       "Point(x=2964, y=76)"
      ]
     },
     "execution_count": 11,
     "metadata": {},
     "output_type": "execute_result"
    }
   ],
   "source": [
    "# cf. button options\n",
    "\n",
    "# button size\n",
    "# padx,pady >> 버튼 텍스트에 따라 >> 동적\n",
    "# weight,height >> 크기 지정 >> 고정\n",
    "# fg >> font 색상\n",
    "# bg >> background 색상"
   ]
  },
  {
   "cell_type": "code",
   "execution_count": null,
   "metadata": {},
   "outputs": [],
   "source": []
  },
  {
   "cell_type": "code",
   "execution_count": null,
   "metadata": {},
   "outputs": [],
   "source": []
  },
  {
   "cell_type": "code",
   "execution_count": null,
   "metadata": {},
   "outputs": [],
   "source": []
  }
 ],
 "metadata": {
  "kernelspec": {
   "display_name": "Python 3.10.4 64-bit",
   "language": "python",
   "name": "python3"
  },
  "language_info": {
   "codemirror_mode": {
    "name": "ipython",
    "version": 3
   },
   "file_extension": ".py",
   "mimetype": "text/x-python",
   "name": "python",
   "nbconvert_exporter": "python",
   "pygments_lexer": "ipython3",
   "version": "3.10.4"
  },
  "orig_nbformat": 4,
  "vscode": {
   "interpreter": {
    "hash": "aff24683d81bac3cf4ae977003e2a757d942f628f87be4ff24ac1431ee19e6c2"
   }
  }
 },
 "nbformat": 4,
 "nbformat_minor": 2
}
